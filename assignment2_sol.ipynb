{
 "cells": [
  {
   "cell_type": "markdown",
   "metadata": {},
   "source": [
    "ASSIGNMENT :2"
   ]
  },
  {
   "cell_type": "raw",
   "metadata": {},
   "source": [
    "Task 1:\n",
    "1.1\n",
    "Write a Python Program to implement your own myreduce() function which works exactly like\n",
    "Python's built-in function reduce()"
   ]
  },
  {
   "cell_type": "code",
   "execution_count": 49,
   "metadata": {},
   "outputs": [
    {
     "name": "stdout",
     "output_type": "stream",
     "text": [
      "Calculating Factorial of 5\n",
      "using inbuilt reduce function\n",
      "120\n",
      "using new my reduce function\n",
      "120\n"
     ]
    }
   ],
   "source": [
    "from functools import reduce\n",
    "x = list(range(1,6))\n",
    "print('Calculating Factorial of 5')\n",
    "\n",
    "def product(a,b):\n",
    "    return a*b\n",
    "\n",
    "print ('using inbuilt reduce function')\n",
    "\n",
    "print(reduce(square, x)) # Result of factorial through inbuilt reduce function\n",
    "\n",
    "def myreduce(funct,n): # new reduce function\n",
    "    y = n[0]\n",
    "    for j in n[1:]:\n",
    "        y=funct(y,j)\n",
    "    return y\n",
    "print ('using new my reduce function')\n",
    "print(myreduce(product, x)) # Result of factorial through newly created reduce function\n",
    "    \n"
   ]
  },
  {
   "cell_type": "raw",
   "metadata": {},
   "source": [
    "2.\n",
    "Implement List comprehensions to produce the following lists.\n",
    "Write List comprehensions to produce the following Lists\n",
    "['A', 'C', 'A', 'D', 'G', 'I', ’L’, ‘ D’]\n",
    "['x', 'xx', 'xxx', 'xxxx', 'y', 'yy', 'yyy', 'yyyy', 'z', 'zz', 'zzz', 'zzzz']\n",
    "['x', 'y', 'z', 'xx', 'yy', 'zz', 'xx', 'yy', 'zz', 'xxxx', 'yyyy', 'zzzz']\n",
    "[[2], [3], [4], [3], [4], [5], [4], [5], [6]]\n",
    "[[2, 3, 4, 5], [3, 4, 5, 6], [4, 5, 6, 7], [5, 6, 7, 8]]\n",
    "[(1, 1), (2, 1), (3, 1), (1, 2), (2, 2), (3, 2), (1, 3), (2, 3), (3, 3)]"
   ]
  },
  {
   "cell_type": "code",
   "execution_count": 51,
   "metadata": {},
   "outputs": [
    {
     "name": "stdout",
     "output_type": "stream",
     "text": [
      "['A', 'C', 'A', 'D', 'G', 'I', 'L', 'D']\n",
      "['x', 'xx', 'xxx', 'xxxx', 'y', 'yy', 'yyy', 'yyyy', 'z', 'zz', 'zzz', 'zzzz']\n",
      "['x', 'y', 'z', 'xx', 'yy', 'zz', 'xx', 'yy', 'zz', 'xxxx', 'yyyy', 'zzzz']\n",
      "[[2], [3], [4], [3], [4], [5], [4], [5], [6]]\n",
      "[[2, 3, 4, 5], [3, 4, 5, 6], [4, 5, 6, 7], [5, 6, 7, 8]]\n",
      "[(1, 1), (2, 1), (3, 1), (1, 2), (2, 2), (3, 2), (1, 3), (2, 3), (3, 3)]\n"
     ]
    }
   ],
   "source": [
    "res1  = [y for y in 'ACADGILD']\n",
    "print(res1)\n",
    "res2 = [y*i for y in 'xyz' for i in range(1,5)]\n",
    "print(res2)\n",
    "res3 = [y*(x-1) if x == 3 else (y*x) for x in range(1,5) for y in 'xyz']\n",
    "print(res3)\n",
    "res4 = [[y+a] for y in range(1,4) for a in range(1,4)]\n",
    "print(res4)\n",
    "res5 = [[y+a for y in range(1,5)] for a in range(1,5)]\n",
    "print(res5)\n",
    "res6 = [(a,y) for y in range(1,4) for a in range(1,4)]\n",
    "print(res6)\n",
    "\n"
   ]
  },
  {
   "cell_type": "raw",
   "metadata": {},
   "source": [
    "3.Implement a function longestWord() that takes a list of words and returns the longest one."
   ]
  },
  {
   "cell_type": "code",
   "execution_count": 55,
   "metadata": {},
   "outputs": [
    {
     "data": {
      "text/plain": [
       "['aankit', 'ahjaah']"
      ]
     },
     "execution_count": 55,
     "metadata": {},
     "output_type": "execute_result"
    }
   ],
   "source": [
    "def longestWord(lwords):\n",
    "    maxl = max(len(x) for x in lwords) \n",
    "    result = [ab for ab in lwords if len(ab)==maxl]\n",
    "    return result\n",
    "\n",
    "ab = ['aankit','sina','ahjaah','ks','khkj','dhgj']\n",
    "longestWord(ab)"
   ]
  },
  {
   "cell_type": "raw",
   "metadata": {},
   "source": [
    "Task 2:\n",
    "1.1\n",
    "Write a Python Program(with class concepts) to find the area of the triangle using the below\n",
    "formula.\n",
    "area = (s*(s-a)*(s-b)*(s-c)) ** 0.5\n",
    "Function to take the length of the sides of triangle from user should be defined in the parent\n",
    "class and function to calculate the area should be defined in subclass."
   ]
  },
  {
   "cell_type": "code",
   "execution_count": 19,
   "metadata": {},
   "outputs": [
    {
     "name": "stdout",
     "output_type": "stream",
     "text": [
      "enter size of side a 3\n",
      "enter size of side b 4\n",
      "enter size of side c 5\n",
      "Area of the Triangle with sides 3,4,5 is 6.0\n"
     ]
    }
   ],
   "source": [
    "class shapes: # parent class\n",
    "    def input_sides(self):\n",
    "        a=int(input('enter size of side a '))\n",
    "        b=int(input('enter size of side b '))\n",
    "        c=int(input('enter size of side c '))\n",
    "        return a,b,c \n",
    "\n",
    "class triangle(shapes): #derived class\n",
    "    def calarea(self,a,b,c):\n",
    "        s=(a+b+c)/2\n",
    "        return str((s*(s-a)*(s-b)*(s-c)) ** 0.5) # calculating the area\n",
    "\n",
    "t = triangle() # object creation\n",
    "x,y,z=t.input_sides()\n",
    "print('Area of the Triangle with sides '+str(x)+','+str(y)+','+str(z)+' is '+t.calarea(x,y,z))"
   ]
  },
  {
   "cell_type": "raw",
   "metadata": {},
   "source": [
    "1.2\n",
    "Write a function filter_long_words() that takes a list of words and an integer n and returns the list\n",
    "of words that are longer than n."
   ]
  },
  {
   "cell_type": "code",
   "execution_count": 31,
   "metadata": {},
   "outputs": [
    {
     "data": {
      "text/plain": [
       "['abcs', 'anksss', 'aaaaaskjasl']"
      ]
     },
     "execution_count": 31,
     "metadata": {},
     "output_type": "execute_result"
    }
   ],
   "source": [
    "def filter_long_words(words,n):\n",
    "    return [ab for ab in words if len(ab) >n]\n",
    "\n",
    "filter_long_words(['abcs','a','ab','abc','anksss','aaaaaskjasl'],3)\n"
   ]
  },
  {
   "cell_type": "raw",
   "metadata": {},
   "source": [
    "2.1\n",
    "Write a Python program using function concept that maps list of words into a list of integers\n",
    "representing the lengths of the corresponding words .\n",
    "Hint: If a list [ ab,cde,erty] is passed on to the python function output should come as [2,3,4]\n",
    "Here 2,3 and 4 are the lengths of the words in the list."
   ]
  },
  {
   "cell_type": "code",
   "execution_count": 35,
   "metadata": {},
   "outputs": [
    {
     "data": {
      "text/plain": [
       "[2, 3, 6]"
      ]
     },
     "execution_count": 35,
     "metadata": {},
     "output_type": "execute_result"
    }
   ],
   "source": [
    "def show_length(wordlist):\n",
    "    return [len(a) for a in wordlist] # returning a list with the values of length of each word\n",
    "\n",
    "show_length(['ab','cde','ertyyu'])"
   ]
  },
  {
   "cell_type": "raw",
   "metadata": {},
   "source": [
    "2.2\n",
    "Write a Python function which takes a character (i.e. a string of length 1) and returns True if it is\n",
    "a vowel, False otherwise."
   ]
  },
  {
   "cell_type": "code",
   "execution_count": 40,
   "metadata": {},
   "outputs": [
    {
     "data": {
      "text/plain": [
       "False"
      ]
     },
     "execution_count": 40,
     "metadata": {},
     "output_type": "execute_result"
    }
   ],
   "source": [
    "def check_vowel(achar):\n",
    "    vowel=['a','e','i','o','u']\n",
    "    return True if achar in vowel else False\n",
    "\n",
    "check_vowel('b')"
   ]
  }
 ],
 "metadata": {
  "kernelspec": {
   "display_name": "Python 3",
   "language": "python",
   "name": "python3"
  },
  "language_info": {
   "codemirror_mode": {
    "name": "ipython",
    "version": 3
   },
   "file_extension": ".py",
   "mimetype": "text/x-python",
   "name": "python",
   "nbconvert_exporter": "python",
   "pygments_lexer": "ipython3",
   "version": "3.6.5"
  }
 },
 "nbformat": 4,
 "nbformat_minor": 2
}
